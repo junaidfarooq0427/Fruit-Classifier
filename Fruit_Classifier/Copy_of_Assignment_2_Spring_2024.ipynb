{
  "cells": [
    {
      "cell_type": "markdown",
      "id": "13934417",
      "metadata": {
        "id": "13934417"
      },
      "source": [
        "# Statistical Intuitions and Applications\n",
        "\n",
        "## Assignment 2 ##"
      ]
    },
    {
      "cell_type": "markdown",
      "id": "98c249e2",
      "metadata": {
        "id": "98c249e2"
      },
      "source": [
        "**Important Information**:\n",
        "\n",
        "In Assignment 2 you will apply the statistical concepts that we've encountered so far in the course to solve FOUR questions related to real-world scenarios. Completing these questions will help you better appreciate how statistical concepts can be combined to describe and analyze many questions in our personal and professional lives.\n",
        "\n",
        "For each question you will first encounter a block of code that generates a dataset for you to work with (similiar to Assignment 1). You will need to save these datasets as csv files.\n",
        "\n",
        "**Submission Requirements**\n",
        "1. Submit all answers along with their corresponding code as a **searchable PDF **.\n",
        "\n",
        "2. All generated csv and .ipynb files must be submitted in a zip-folder as a secondary source.\n",
        "\n",
        "3. Ensure your zip folder contains four csv files (i.e., the csv files for each of the four questions below; YourName.csv, RelianceRetailVisits_ordered.csv, Scores.csv, Vaccinated.csv).\n",
        "\n",
        "4. You may use Jupyter notebook or Colab as per your convenience.\n",
        "\n",
        "5. **You should ONLY use the concepts and techniques covered in the course to generate your answers. Statistical techniques that are NOT covered in the course will NOT be evaluated.**\n",
        "\n",
        "**Note:** Reach out to your instructor for any question regarding csv files, codes, or the zip-folder.  \n",
        "\n",
        "Non-compliance with the above instructions will result in a 0 grade on the relevant portions of the assignment. Your instructor will grade your assignment based on what you submitted. Failure to submit the assignment or submitting an assignment intended for another class will result in a 0 grade, and resubmission will not be allowed. Make sure that you submit your original work. Suspected cases of plagiarism will be treated as potential academic misconduct and will be reported to the College Academic Integrity Committee for a formal investigation. As part of this procedure, your instructor may require you to meet with them for an oral exam on the assignment."
      ]
    },
    {
      "cell_type": "markdown",
      "id": "048ad5be",
      "metadata": {
        "id": "048ad5be"
      },
      "source": [
        "# A. Statistical Intuitions in Mental Health"
      ]
    },
    {
      "cell_type": "markdown",
      "id": "7579effc",
      "metadata": {
        "id": "7579effc"
      },
      "source": [
        "# **Question 1:**\n",
        "\n",
        "We are going to work with a dataset that was collected on mental health issues. In total, 824 individuals (teenagers, college students, housewives, businesses professionals, and other groups) completed the survey. Their data provides valuable insights into the prevalence, and factors associated with, mental health issues in different groups."
      ]
    },
    {
      "cell_type": "markdown",
      "source": [
        "**To Begin**.\n",
        "\n",
        "Run the code below. It will select a random sample of 300 participants from the Mental Health dataset. The code will then generate a CSV file called **Name.csv**. You need to change the name of the file to your actual name and then submit in the zip folder as a secondary file."
      ],
      "metadata": {
        "id": "JYeKmfJbppiW"
      },
      "id": "JYeKmfJbppiW"
    },
    {
      "cell_type": "code",
      "source": [
        "# Load the following libraries so that they can be applied in the subsequent code blocks\n",
        "\n",
        "import numpy as np\n",
        "import pandas as pd\n",
        "import matplotlib.pyplot as plt\n",
        "import random\n",
        "import scipy.stats as stats\n",
        "\n",
        "# Run this code. It will create a csv file containing a random sample of 300 respondents. You will answer the questions below based on this sample.\n",
        "\n",
        "# Look at the code below. Now replace 'Name.csv' with your actual name (e.g., 'Sara.csv'). The code will generate a csv file that you need to submit in the zip folder as secondary file.\n",
        "\n",
        "try:\n",
        "    df = pd.read_csv('Mahra.csv')        # replace Name with your own name\n",
        "except FileNotFoundError:\n",
        "    original_data = pd.read_csv(\"https://raw.githubusercontent.com/DanaSaleh1003/IDS-103-Spring-2024/main/mental_health_finaldata_1.csv\")\n",
        "    df1=original_data.sample(300)\n",
        "    df1.to_csv('Mahra.csv')                   # replace Name with your own name\n",
        "    df = pd.read_csv('Mahra.csv')             # replace Name with your own name\n",
        "    df = pd.DataFrame(df)\n",
        "    df.to_csv('Mahra.csv')                    # replace Name with your own name\n",
        "\n",
        "df.head()"
      ],
      "metadata": {
        "id": "aYKSp5nHcO2X",
        "outputId": "aef5f427-ccf1-4776-dd5f-c2fa5880ecec",
        "colab": {
          "base_uri": "https://localhost:8080/",
          "height": 278
        }
      },
      "id": "aYKSp5nHcO2X",
      "execution_count": null,
      "outputs": [
        {
          "output_type": "execute_result",
          "data": {
            "text/plain": [
              "   Unnamed: 0       Age  Gender Occupation      Days_Indoors Growing_Stress  \\\n",
              "0         619     25-30  Female   Business        31-60 days             No   \n",
              "1         205     25-30  Female    Student         1-14 days             No   \n",
              "2          64  30-Above    Male  Housewife        15-30 days            Yes   \n",
              "3         737     25-30  Female  Housewife        15-30 days            Yes   \n",
              "4           8  30-Above    Male     Others  Go out Every day            Yes   \n",
              "\n",
              "  Quarantine_Frustrations Changes_Habits Mental_Health_History Weight_Change  \\\n",
              "0                     Yes             No                   Yes           Yes   \n",
              "1                     Yes             No                   Yes           Yes   \n",
              "2                     Yes            Yes                   Yes           Yes   \n",
              "3                      No            Yes                    No           Yes   \n",
              "4                     Yes            Yes                    No           Yes   \n",
              "\n",
              "  Mood_Swings Coping_Struggles Work_Interest Social_Weakness  \n",
              "0      Medium               No            No              No  \n",
              "1        High               No           Yes             Yes  \n",
              "2         Low               No           Yes              No  \n",
              "3         Low               No            No              No  \n",
              "4      Medium              Yes           Yes             Yes  "
            ],
            "text/html": [
              "\n",
              "  <div id=\"df-20489726-e00d-4f82-9b8e-12e61652a9e9\" class=\"colab-df-container\">\n",
              "    <div>\n",
              "<style scoped>\n",
              "    .dataframe tbody tr th:only-of-type {\n",
              "        vertical-align: middle;\n",
              "    }\n",
              "\n",
              "    .dataframe tbody tr th {\n",
              "        vertical-align: top;\n",
              "    }\n",
              "\n",
              "    .dataframe thead th {\n",
              "        text-align: right;\n",
              "    }\n",
              "</style>\n",
              "<table border=\"1\" class=\"dataframe\">\n",
              "  <thead>\n",
              "    <tr style=\"text-align: right;\">\n",
              "      <th></th>\n",
              "      <th>Unnamed: 0</th>\n",
              "      <th>Age</th>\n",
              "      <th>Gender</th>\n",
              "      <th>Occupation</th>\n",
              "      <th>Days_Indoors</th>\n",
              "      <th>Growing_Stress</th>\n",
              "      <th>Quarantine_Frustrations</th>\n",
              "      <th>Changes_Habits</th>\n",
              "      <th>Mental_Health_History</th>\n",
              "      <th>Weight_Change</th>\n",
              "      <th>Mood_Swings</th>\n",
              "      <th>Coping_Struggles</th>\n",
              "      <th>Work_Interest</th>\n",
              "      <th>Social_Weakness</th>\n",
              "    </tr>\n",
              "  </thead>\n",
              "  <tbody>\n",
              "    <tr>\n",
              "      <th>0</th>\n",
              "      <td>619</td>\n",
              "      <td>25-30</td>\n",
              "      <td>Female</td>\n",
              "      <td>Business</td>\n",
              "      <td>31-60 days</td>\n",
              "      <td>No</td>\n",
              "      <td>Yes</td>\n",
              "      <td>No</td>\n",
              "      <td>Yes</td>\n",
              "      <td>Yes</td>\n",
              "      <td>Medium</td>\n",
              "      <td>No</td>\n",
              "      <td>No</td>\n",
              "      <td>No</td>\n",
              "    </tr>\n",
              "    <tr>\n",
              "      <th>1</th>\n",
              "      <td>205</td>\n",
              "      <td>25-30</td>\n",
              "      <td>Female</td>\n",
              "      <td>Student</td>\n",
              "      <td>1-14 days</td>\n",
              "      <td>No</td>\n",
              "      <td>Yes</td>\n",
              "      <td>No</td>\n",
              "      <td>Yes</td>\n",
              "      <td>Yes</td>\n",
              "      <td>High</td>\n",
              "      <td>No</td>\n",
              "      <td>Yes</td>\n",
              "      <td>Yes</td>\n",
              "    </tr>\n",
              "    <tr>\n",
              "      <th>2</th>\n",
              "      <td>64</td>\n",
              "      <td>30-Above</td>\n",
              "      <td>Male</td>\n",
              "      <td>Housewife</td>\n",
              "      <td>15-30 days</td>\n",
              "      <td>Yes</td>\n",
              "      <td>Yes</td>\n",
              "      <td>Yes</td>\n",
              "      <td>Yes</td>\n",
              "      <td>Yes</td>\n",
              "      <td>Low</td>\n",
              "      <td>No</td>\n",
              "      <td>Yes</td>\n",
              "      <td>No</td>\n",
              "    </tr>\n",
              "    <tr>\n",
              "      <th>3</th>\n",
              "      <td>737</td>\n",
              "      <td>25-30</td>\n",
              "      <td>Female</td>\n",
              "      <td>Housewife</td>\n",
              "      <td>15-30 days</td>\n",
              "      <td>Yes</td>\n",
              "      <td>No</td>\n",
              "      <td>Yes</td>\n",
              "      <td>No</td>\n",
              "      <td>Yes</td>\n",
              "      <td>Low</td>\n",
              "      <td>No</td>\n",
              "      <td>No</td>\n",
              "      <td>No</td>\n",
              "    </tr>\n",
              "    <tr>\n",
              "      <th>4</th>\n",
              "      <td>8</td>\n",
              "      <td>30-Above</td>\n",
              "      <td>Male</td>\n",
              "      <td>Others</td>\n",
              "      <td>Go out Every day</td>\n",
              "      <td>Yes</td>\n",
              "      <td>Yes</td>\n",
              "      <td>Yes</td>\n",
              "      <td>No</td>\n",
              "      <td>Yes</td>\n",
              "      <td>Medium</td>\n",
              "      <td>Yes</td>\n",
              "      <td>Yes</td>\n",
              "      <td>Yes</td>\n",
              "    </tr>\n",
              "  </tbody>\n",
              "</table>\n",
              "</div>\n",
              "    <div class=\"colab-df-buttons\">\n",
              "\n",
              "  <div class=\"colab-df-container\">\n",
              "    <button class=\"colab-df-convert\" onclick=\"convertToInteractive('df-20489726-e00d-4f82-9b8e-12e61652a9e9')\"\n",
              "            title=\"Convert this dataframe to an interactive table.\"\n",
              "            style=\"display:none;\">\n",
              "\n",
              "  <svg xmlns=\"http://www.w3.org/2000/svg\" height=\"24px\" viewBox=\"0 -960 960 960\">\n",
              "    <path d=\"M120-120v-720h720v720H120Zm60-500h600v-160H180v160Zm220 220h160v-160H400v160Zm0 220h160v-160H400v160ZM180-400h160v-160H180v160Zm440 0h160v-160H620v160ZM180-180h160v-160H180v160Zm440 0h160v-160H620v160Z\"/>\n",
              "  </svg>\n",
              "    </button>\n",
              "\n",
              "  <style>\n",
              "    .colab-df-container {\n",
              "      display:flex;\n",
              "      gap: 12px;\n",
              "    }\n",
              "\n",
              "    .colab-df-convert {\n",
              "      background-color: #E8F0FE;\n",
              "      border: none;\n",
              "      border-radius: 50%;\n",
              "      cursor: pointer;\n",
              "      display: none;\n",
              "      fill: #1967D2;\n",
              "      height: 32px;\n",
              "      padding: 0 0 0 0;\n",
              "      width: 32px;\n",
              "    }\n",
              "\n",
              "    .colab-df-convert:hover {\n",
              "      background-color: #E2EBFA;\n",
              "      box-shadow: 0px 1px 2px rgba(60, 64, 67, 0.3), 0px 1px 3px 1px rgba(60, 64, 67, 0.15);\n",
              "      fill: #174EA6;\n",
              "    }\n",
              "\n",
              "    .colab-df-buttons div {\n",
              "      margin-bottom: 4px;\n",
              "    }\n",
              "\n",
              "    [theme=dark] .colab-df-convert {\n",
              "      background-color: #3B4455;\n",
              "      fill: #D2E3FC;\n",
              "    }\n",
              "\n",
              "    [theme=dark] .colab-df-convert:hover {\n",
              "      background-color: #434B5C;\n",
              "      box-shadow: 0px 1px 3px 1px rgba(0, 0, 0, 0.15);\n",
              "      filter: drop-shadow(0px 1px 2px rgba(0, 0, 0, 0.3));\n",
              "      fill: #FFFFFF;\n",
              "    }\n",
              "  </style>\n",
              "\n",
              "    <script>\n",
              "      const buttonEl =\n",
              "        document.querySelector('#df-20489726-e00d-4f82-9b8e-12e61652a9e9 button.colab-df-convert');\n",
              "      buttonEl.style.display =\n",
              "        google.colab.kernel.accessAllowed ? 'block' : 'none';\n",
              "\n",
              "      async function convertToInteractive(key) {\n",
              "        const element = document.querySelector('#df-20489726-e00d-4f82-9b8e-12e61652a9e9');\n",
              "        const dataTable =\n",
              "          await google.colab.kernel.invokeFunction('convertToInteractive',\n",
              "                                                    [key], {});\n",
              "        if (!dataTable) return;\n",
              "\n",
              "        const docLinkHtml = 'Like what you see? Visit the ' +\n",
              "          '<a target=\"_blank\" href=https://colab.research.google.com/notebooks/data_table.ipynb>data table notebook</a>'\n",
              "          + ' to learn more about interactive tables.';\n",
              "        element.innerHTML = '';\n",
              "        dataTable['output_type'] = 'display_data';\n",
              "        await google.colab.output.renderOutput(dataTable, element);\n",
              "        const docLink = document.createElement('div');\n",
              "        docLink.innerHTML = docLinkHtml;\n",
              "        element.appendChild(docLink);\n",
              "      }\n",
              "    </script>\n",
              "  </div>\n",
              "\n",
              "\n",
              "<div id=\"df-d54db67c-2b68-4b39-9674-32ae68fa96f3\">\n",
              "  <button class=\"colab-df-quickchart\" onclick=\"quickchart('df-d54db67c-2b68-4b39-9674-32ae68fa96f3')\"\n",
              "            title=\"Suggest charts\"\n",
              "            style=\"display:none;\">\n",
              "\n",
              "<svg xmlns=\"http://www.w3.org/2000/svg\" height=\"24px\"viewBox=\"0 0 24 24\"\n",
              "     width=\"24px\">\n",
              "    <g>\n",
              "        <path d=\"M19 3H5c-1.1 0-2 .9-2 2v14c0 1.1.9 2 2 2h14c1.1 0 2-.9 2-2V5c0-1.1-.9-2-2-2zM9 17H7v-7h2v7zm4 0h-2V7h2v10zm4 0h-2v-4h2v4z\"/>\n",
              "    </g>\n",
              "</svg>\n",
              "  </button>\n",
              "\n",
              "<style>\n",
              "  .colab-df-quickchart {\n",
              "      --bg-color: #E8F0FE;\n",
              "      --fill-color: #1967D2;\n",
              "      --hover-bg-color: #E2EBFA;\n",
              "      --hover-fill-color: #174EA6;\n",
              "      --disabled-fill-color: #AAA;\n",
              "      --disabled-bg-color: #DDD;\n",
              "  }\n",
              "\n",
              "  [theme=dark] .colab-df-quickchart {\n",
              "      --bg-color: #3B4455;\n",
              "      --fill-color: #D2E3FC;\n",
              "      --hover-bg-color: #434B5C;\n",
              "      --hover-fill-color: #FFFFFF;\n",
              "      --disabled-bg-color: #3B4455;\n",
              "      --disabled-fill-color: #666;\n",
              "  }\n",
              "\n",
              "  .colab-df-quickchart {\n",
              "    background-color: var(--bg-color);\n",
              "    border: none;\n",
              "    border-radius: 50%;\n",
              "    cursor: pointer;\n",
              "    display: none;\n",
              "    fill: var(--fill-color);\n",
              "    height: 32px;\n",
              "    padding: 0;\n",
              "    width: 32px;\n",
              "  }\n",
              "\n",
              "  .colab-df-quickchart:hover {\n",
              "    background-color: var(--hover-bg-color);\n",
              "    box-shadow: 0 1px 2px rgba(60, 64, 67, 0.3), 0 1px 3px 1px rgba(60, 64, 67, 0.15);\n",
              "    fill: var(--button-hover-fill-color);\n",
              "  }\n",
              "\n",
              "  .colab-df-quickchart-complete:disabled,\n",
              "  .colab-df-quickchart-complete:disabled:hover {\n",
              "    background-color: var(--disabled-bg-color);\n",
              "    fill: var(--disabled-fill-color);\n",
              "    box-shadow: none;\n",
              "  }\n",
              "\n",
              "  .colab-df-spinner {\n",
              "    border: 2px solid var(--fill-color);\n",
              "    border-color: transparent;\n",
              "    border-bottom-color: var(--fill-color);\n",
              "    animation:\n",
              "      spin 1s steps(1) infinite;\n",
              "  }\n",
              "\n",
              "  @keyframes spin {\n",
              "    0% {\n",
              "      border-color: transparent;\n",
              "      border-bottom-color: var(--fill-color);\n",
              "      border-left-color: var(--fill-color);\n",
              "    }\n",
              "    20% {\n",
              "      border-color: transparent;\n",
              "      border-left-color: var(--fill-color);\n",
              "      border-top-color: var(--fill-color);\n",
              "    }\n",
              "    30% {\n",
              "      border-color: transparent;\n",
              "      border-left-color: var(--fill-color);\n",
              "      border-top-color: var(--fill-color);\n",
              "      border-right-color: var(--fill-color);\n",
              "    }\n",
              "    40% {\n",
              "      border-color: transparent;\n",
              "      border-right-color: var(--fill-color);\n",
              "      border-top-color: var(--fill-color);\n",
              "    }\n",
              "    60% {\n",
              "      border-color: transparent;\n",
              "      border-right-color: var(--fill-color);\n",
              "    }\n",
              "    80% {\n",
              "      border-color: transparent;\n",
              "      border-right-color: var(--fill-color);\n",
              "      border-bottom-color: var(--fill-color);\n",
              "    }\n",
              "    90% {\n",
              "      border-color: transparent;\n",
              "      border-bottom-color: var(--fill-color);\n",
              "    }\n",
              "  }\n",
              "</style>\n",
              "\n",
              "  <script>\n",
              "    async function quickchart(key) {\n",
              "      const quickchartButtonEl =\n",
              "        document.querySelector('#' + key + ' button');\n",
              "      quickchartButtonEl.disabled = true;  // To prevent multiple clicks.\n",
              "      quickchartButtonEl.classList.add('colab-df-spinner');\n",
              "      try {\n",
              "        const charts = await google.colab.kernel.invokeFunction(\n",
              "            'suggestCharts', [key], {});\n",
              "      } catch (error) {\n",
              "        console.error('Error during call to suggestCharts:', error);\n",
              "      }\n",
              "      quickchartButtonEl.classList.remove('colab-df-spinner');\n",
              "      quickchartButtonEl.classList.add('colab-df-quickchart-complete');\n",
              "    }\n",
              "    (() => {\n",
              "      let quickchartButtonEl =\n",
              "        document.querySelector('#df-d54db67c-2b68-4b39-9674-32ae68fa96f3 button');\n",
              "      quickchartButtonEl.style.display =\n",
              "        google.colab.kernel.accessAllowed ? 'block' : 'none';\n",
              "    })();\n",
              "  </script>\n",
              "</div>\n",
              "\n",
              "    </div>\n",
              "  </div>\n"
            ],
            "application/vnd.google.colaboratory.intrinsic+json": {
              "type": "dataframe",
              "variable_name": "df",
              "summary": "{\n  \"name\": \"df\",\n  \"rows\": 300,\n  \"fields\": [\n    {\n      \"column\": \"Unnamed: 0\",\n      \"properties\": {\n        \"dtype\": \"number\",\n        \"std\": 240,\n        \"min\": 2,\n        \"max\": 823,\n        \"num_unique_values\": 300,\n        \"samples\": [\n          305,\n          754,\n          674\n        ],\n        \"semantic_type\": \"\",\n        \"description\": \"\"\n      }\n    },\n    {\n      \"column\": \"Age\",\n      \"properties\": {\n        \"dtype\": \"category\",\n        \"num_unique_values\": 4,\n        \"samples\": [\n          \"30-Above\",\n          \"20-25\",\n          \"25-30\"\n        ],\n        \"semantic_type\": \"\",\n        \"description\": \"\"\n      }\n    },\n    {\n      \"column\": \"Gender\",\n      \"properties\": {\n        \"dtype\": \"category\",\n        \"num_unique_values\": 2,\n        \"samples\": [\n          \"Male\",\n          \"Female\"\n        ],\n        \"semantic_type\": \"\",\n        \"description\": \"\"\n      }\n    },\n    {\n      \"column\": \"Occupation\",\n      \"properties\": {\n        \"dtype\": \"category\",\n        \"num_unique_values\": 5,\n        \"samples\": [\n          \"Student\",\n          \"Corporate\"\n        ],\n        \"semantic_type\": \"\",\n        \"description\": \"\"\n      }\n    },\n    {\n      \"column\": \"Days_Indoors\",\n      \"properties\": {\n        \"dtype\": \"category\",\n        \"num_unique_values\": 5,\n        \"samples\": [\n          \"1-14 days\",\n          \"More than 2 months\"\n        ],\n        \"semantic_type\": \"\",\n        \"description\": \"\"\n      }\n    },\n    {\n      \"column\": \"Growing_Stress\",\n      \"properties\": {\n        \"dtype\": \"category\",\n        \"num_unique_values\": 2,\n        \"samples\": [\n          \"Yes\",\n          \"No\"\n        ],\n        \"semantic_type\": \"\",\n        \"description\": \"\"\n      }\n    },\n    {\n      \"column\": \"Quarantine_Frustrations\",\n      \"properties\": {\n        \"dtype\": \"category\",\n        \"num_unique_values\": 2,\n        \"samples\": [\n          \"No\",\n          \"Yes\"\n        ],\n        \"semantic_type\": \"\",\n        \"description\": \"\"\n      }\n    },\n    {\n      \"column\": \"Changes_Habits\",\n      \"properties\": {\n        \"dtype\": \"category\",\n        \"num_unique_values\": 2,\n        \"samples\": [\n          \"Yes\",\n          \"No\"\n        ],\n        \"semantic_type\": \"\",\n        \"description\": \"\"\n      }\n    },\n    {\n      \"column\": \"Mental_Health_History\",\n      \"properties\": {\n        \"dtype\": \"category\",\n        \"num_unique_values\": 2,\n        \"samples\": [\n          \"No\",\n          \"Yes\"\n        ],\n        \"semantic_type\": \"\",\n        \"description\": \"\"\n      }\n    },\n    {\n      \"column\": \"Weight_Change\",\n      \"properties\": {\n        \"dtype\": \"category\",\n        \"num_unique_values\": 2,\n        \"samples\": [\n          \"No\",\n          \"Yes\"\n        ],\n        \"semantic_type\": \"\",\n        \"description\": \"\"\n      }\n    },\n    {\n      \"column\": \"Mood_Swings\",\n      \"properties\": {\n        \"dtype\": \"category\",\n        \"num_unique_values\": 3,\n        \"samples\": [\n          \"Medium\",\n          \"High\"\n        ],\n        \"semantic_type\": \"\",\n        \"description\": \"\"\n      }\n    },\n    {\n      \"column\": \"Coping_Struggles\",\n      \"properties\": {\n        \"dtype\": \"category\",\n        \"num_unique_values\": 2,\n        \"samples\": [\n          \"Yes\",\n          \"No\"\n        ],\n        \"semantic_type\": \"\",\n        \"description\": \"\"\n      }\n    },\n    {\n      \"column\": \"Work_Interest\",\n      \"properties\": {\n        \"dtype\": \"category\",\n        \"num_unique_values\": 2,\n        \"samples\": [\n          \"Yes\",\n          \"No\"\n        ],\n        \"semantic_type\": \"\",\n        \"description\": \"\"\n      }\n    },\n    {\n      \"column\": \"Social_Weakness\",\n      \"properties\": {\n        \"dtype\": \"category\",\n        \"num_unique_values\": 2,\n        \"samples\": [\n          \"Yes\",\n          \"No\"\n        ],\n        \"semantic_type\": \"\",\n        \"description\": \"\"\n      }\n    }\n  ]\n}"
            }
          },
          "metadata": {},
          "execution_count": 2
        }
      ]
    },
    {
      "cell_type": "markdown",
      "source": [
        "::Now, Run the code below to return **TWO variables** which represent different aspects of mental health that you need to focus on."
      ],
      "metadata": {
        "id": "uhv3cBRlwY-W"
      },
      "id": "uhv3cBRlwY-W"
    },
    {
      "cell_type": "code",
      "source": [
        "\n",
        "# Load the following libraries so that they can be applied in the subsequent code blocks\n",
        "\n",
        "import numpy as np\n",
        "import pandas as pd\n",
        "import matplotlib.pyplot as plt\n",
        "import random\n",
        "import scipy.stats as stats\n",
        "import random\n",
        "\n",
        "column_titles = [\"Growing_Stress\"  ,\"Quarantine_Frustrations\"  ,\"Changes_Habits\" ,\"Mental_Health_History\", \"Weight_Change\" ,\"Mood_Swings\", \"Coping_Struggles\",\"Work_Interest\",\"Social_Weakness\"]\n",
        "\n",
        "# Randomly select 2 variables\n",
        "selected_columns = random.sample(column_titles, 2)\n",
        "\n",
        "\n",
        "# Print the 2 variables that were randomly selected\n",
        "variable_1, variable_2 = selected_columns\n",
        "print(\"Variable 1:\", variable_1)\n",
        "print(\"Variable 2:\", variable_2)"
      ],
      "metadata": {
        "id": "x8j_10-22EIi",
        "colab": {
          "base_uri": "https://localhost:8080/"
        },
        "outputId": "44dc702d-2b1a-4087-8862-6dcc2290cea5"
      },
      "id": "x8j_10-22EIi",
      "execution_count": null,
      "outputs": [
        {
          "output_type": "stream",
          "name": "stdout",
          "text": [
            "Variable 1: Quarantine_Frustrations\n",
            "Variable 2: Social_Weakness\n"
          ]
        }
      ]
    },
    {
      "cell_type": "markdown",
      "source": [
        "\n",
        "Using the sample dataset from the CSV file you generated answer the following questions:\n",
        "\n",
        "**Question 1a**.\n",
        "Is each of these two variables independent of being **female**? Explain your reasoning. Make sure to include a two-way table for each of these two variables with gender, and show all your calculations to support your answers.\n",
        "\n",
        "**Question 1b**.\n",
        "Is there a relationship between the two variables returned by the code? Explain your reasoning. Make sure you include a two-way table, a stacked bar graph, and all your probability calculations in your answer.\n",
        "\n",
        "**Question 1c**.\n",
        "Does the existence of Variable 1 increase the likelihood of experiencing Variable 2? If so, by how much? Explain your reasoning. Make sure to support your answer with the relevant statistical analysis.\n",
        "\n",
        "**Question 1d**.\n",
        "Look back at your **answers to Questions 1a-c**. Now use what you learned to answer the following question:\n",
        "\n",
        "Imagine ZU wanted to use the insights from this research to improve its mental health support program. What recommendations would you make to support students struggling with such challenges?"
      ],
      "metadata": {
        "id": "XLF-3gDYdFk7"
      },
      "id": "XLF-3gDYdFk7"
    },
    {
      "cell_type": "markdown",
      "source": [
        "# Question 1a.\n",
        "\n",
        "I started by creating two-way tables for each of the variables Quarantine_Frustrations and Social_Weakness with respect to gender using pd.crosstab, which is a function in the pandas library that creates a table showing the frequency of occurrences of different categories of variables in a dataset, making it easier to understand the relationship between them. Then I calculated the conditional probability of each variable given female gender by dividing the count of females with the variable value by the total count of females. Where the conditional probability represents the likelihood of experiencing each variable given that the individual is female. If these probabilities are significantly different from the overall probabilities, it suggests that the variables are not independent of being female.\n",
        "\n",
        "**Probabilities**:\n",
        "\n",
        "1- Probability of Quarantine Frustrations\n",
        "P(QF) = count(QF)/ total count = 111+90/300 = 201/300 = 0.67\n",
        "\n",
        "2- Probability of Being Female\n",
        "P(F) = count(female)/ total count = 111+54/300 = 165/300 = 0.55\n",
        "\n",
        "3- Joint Probability of Quarantine Frustrations and Female\n",
        "P(QF∩F) = count(QF∩F)/ total count = 111/300 = 0.37\n",
        "\n",
        "4- Probability of Social Weakness\n",
        "P(SW) = count(SW)/ total count = 108+90/300 = 198/300 = 0.66\n",
        "\n",
        "5- Joint Probability of Social Weakness and Female\n",
        "P(SW∩F) = count(SW∩F)/ total count = 108/300 = 0.36\n",
        "\n",
        "**Conditional** **probabilities**:\n",
        "\n",
        "1- Conditional Probability of Quarantine Frustrations given Female\n",
        "P(QF∣F) = P(QF∩F)/P(F) 0.37/0.55 = 0.67\n",
        "\n",
        "2- Conditional Probability of Social Weakness given Female\n",
        "\n",
        "P(SW∣F) = P(SW∩F)/P(F) = 0.36/0.55 = 0.65\n",
        "\n",
        "These calculations confirm that the variables **Quarantine_Frustrations** and **Social_Weakness** are independent of being female in this sample.\n",
        "\n",
        "\n",
        "\n",
        "\n",
        "\n"
      ],
      "metadata": {
        "id": "yNqxFVLjkXVa"
      },
      "id": "yNqxFVLjkXVa"
    },
    {
      "cell_type": "code",
      "source": [
        "import pandas as pd\n",
        "\n",
        "# Generating the two-way tables\n",
        "quarantine_frustrations_table = pd.crosstab(df['Quarantine_Frustrations'], df['Gender'])\n",
        "social_weakness_table = pd.crosstab(df['Social_Weakness'], df['Gender'])\n",
        "\n",
        "# Calculating the conditional probabilities for each of the variables\n",
        "prob_quarantine_frustrations_given_female = quarantine_frustrations_table.loc[1, 'Female'] / quarantine_frustrations_table['Female'].sum() if 1 in quarantine_frustrations_table.index else 0\n",
        "prob_social_weakness_given_female = social_weakness_table.loc[1, 'Female'] / social_weakness_table['Female'].sum() if 1 in social_weakness_table.index else 0\n",
        "\n",
        "# Outputting the two-way tables\n",
        "print(\"Two-way table for Quarantine_Frustrations and Gender:\")\n",
        "print(quarantine_frustrations_table)\n",
        "print(\"\\nTwo-way table for Social_Weakness and Gender:\")\n",
        "print(social_weakness_table)\n",
        "\n",
        "# Outputting the conditional probabilities\n",
        "print(\"\\nConditional probability of Quarantine_Frustrations given Female:\", prob_quarantine_frustrations_given_female)\n",
        "print(\"Conditional probability of Social_Weakness given Female:\", prob_social_weakness_given_female)\n"
      ],
      "metadata": {
        "colab": {
          "base_uri": "https://localhost:8080/"
        },
        "id": "TsVP1sMAlmv8",
        "outputId": "89d3a555-e6ce-48a5-9e6a-f547683c255b"
      },
      "id": "TsVP1sMAlmv8",
      "execution_count": null,
      "outputs": [
        {
          "output_type": "stream",
          "name": "stdout",
          "text": [
            "Two-way table for Quarantine_Frustrations and Gender:\n",
            "Gender                   Female  Male\n",
            "Quarantine_Frustrations              \n",
            "No                           54    45\n",
            "Yes                         111    90\n",
            "\n",
            "Two-way table for Social_Weakness and Gender:\n",
            "Gender           Female  Male\n",
            "Social_Weakness              \n",
            "No                   57    45\n",
            "Yes                 108    90\n",
            "\n",
            "Conditional probability of Quarantine_Frustrations given Female: 0\n",
            "Conditional probability of Social_Weakness given Female: 0\n"
          ]
        }
      ]
    },
    {
      "cell_type": "markdown",
      "source": [
        "# Question 1b.\n",
        "## Is there a relationship between the two variables returned by the code? Explain your reasoning. Make sure you include a two-way table, a stacked bar graph, and all your probability calculations in your answer.\n",
        "\n",
        "\n",
        "The conditional probabilities help us understand how the likelihood of experiencing Social_Weakness or Quarantine_Frustrations changes based on the value of the other variable.\n",
        "If the conditional probabilities are different for each level of the other variable, it suggests that there may be a relationship between the two variables.\n",
        "The stacked bar graph visually represents the distribution of Quarantine_Frustrations within each level of Social_Weakness and vice versa. If the patterns differ between the two variables, it could indicate a relationship.\n",
        "\n",
        "I used a two-way frequency table, which helps summarize the relationship between two categorical variables by displaying the frequencies of each combination of categories. This type of table allows us to see how the categories of one variable are distributed across the categories of another variable."
      ],
      "metadata": {
        "id": "FAXwFLbmrJfs"
      },
      "id": "FAXwFLbmrJfs"
    },
    {
      "cell_type": "markdown",
      "source": [
        "\n",
        "### Two-Way Table for Quarantine_Frustrations and Social_Weakness:\n",
        "\n",
        "#### Quarantine_Frustrations:\n",
        "\n",
        "\\begin{array}{|c|c|c|}\n",
        "\\hline\n",
        " & \\text{No} & \\text{Yes} \\\\\n",
        "\\hline\n",
        "\\text{Probability} & 0.55 & 0.45 \\\\\n",
        "\\hline\n",
        "\\end{array}\n",
        "\n",
        "\n",
        "#### Social_Weakness:\n",
        "\n",
        "\\begin{array}{|c|c|c|}\n",
        "\\hline\n",
        " & \\text{No} & \\text{Yes} \\\\\n",
        "\\hline\n",
        "\\text{Probability} & 0.60 & 0.40 \\\\\n",
        "\\hline\n",
        "\\end{array}\n",
        "\n",
        "\n"
      ],
      "metadata": {
        "id": "ehMIi7iDhO-H"
      },
      "id": "ehMIi7iDhO-H"
    },
    {
      "cell_type": "code",
      "source": [
        "# Calculate conditional probabilities\n",
        "prob_social_weakness_given_quarantine_frustrations = social_weakness_table.loc['Yes', 'Female'] / social_weakness_table['Female'].sum()\n",
        "prob_quarantine_frustrations_given_social_weakness = quarantine_frustrations_table.loc['Yes', 'Female'] / quarantine_frustrations_table['Female'].sum()\n",
        "\n",
        "print(\"\\nConditional probability of Social_Weakness given Quarantine_Frustrations=Yes (Female):\", prob_social_weakness_given_quarantine_frustrations)\n",
        "print(\"Conditional probability of Quarantine_Frustrations given Social_Weakness=Yes (Female):\", prob_quarantine_frustrations_given_social_weakness)"
      ],
      "metadata": {
        "colab": {
          "base_uri": "https://localhost:8080/"
        },
        "id": "lSCLRkHs3Zwq",
        "outputId": "0d1f2f66-034c-4ca4-d35f-d99bcce3671b"
      },
      "id": "lSCLRkHs3Zwq",
      "execution_count": null,
      "outputs": [
        {
          "output_type": "stream",
          "name": "stdout",
          "text": [
            "\n",
            "Conditional probability of Social_Weakness given Quarantine_Frustrations=Yes (Female): 0.6545454545454545\n",
            "Conditional probability of Quarantine_Frustrations given Social_Weakness=Yes (Female): 0.6727272727272727\n"
          ]
        }
      ]
    },
    {
      "cell_type": "code",
      "source": [
        "# A stacked bar graph to visualize the relationship.\n",
        "\n",
        "import pandas as pd\n",
        "import matplotlib.pyplot as plt\n",
        "\n",
        "# Create a DataFrame for the corrected two-way table\n",
        "data = {'No': [57, 45], 'Yes': [108, 90]}\n",
        "df = pd.DataFrame(data, index=['Quarantine_Frustrations_No', 'Quarantine_Frustrations_Yes'])\n",
        "\n",
        "# Plot the corrected stacked bar graph\n",
        "colors = ['skyblue', 'orange']\n",
        "df.plot(kind='bar', stacked=True, color=colors)\n",
        "plt.title('Stacked Bar Graph of Social_Weakness by Quarantine_Frustrations')\n",
        "plt.xlabel('Quarantine_Frustrations')\n",
        "plt.ylabel('Count')\n",
        "\n",
        "# Add legend\n",
        "plt.legend(title='Social_Weakness', bbox_to_anchor=(1, 1))\n",
        "\n",
        "plt.show()\n"
      ],
      "metadata": {
        "colab": {
          "base_uri": "https://localhost:8080/",
          "height": 654
        },
        "id": "LnaDkQ031mwn",
        "outputId": "072011fb-5505-441f-cb4a-9caa37d0d756"
      },
      "id": "LnaDkQ031mwn",
      "execution_count": null,
      "outputs": [
        {
          "output_type": "display_data",
          "data": {
            "text/plain": [
              "<Figure size 640x480 with 1 Axes>"
            ],
            "image/png": "[encoded data removed]"
          },
          "metadata": {}
        }
      ]
    },
    {
      "cell_type": "markdown",
      "id": "df3517a6",
      "metadata": {
        "id": "df3517a6"
      },
      "source": [
        "# B. Statistical Intuition in Store Ratings"
      ]
    },
    {
      "cell_type": "markdown",
      "source": [
        "# **Question 2:**\n",
        "\n",
        "\n",
        "Imagine you are the manager of an Electronic store in Dubai mall. You are curious about the distribution of customer ratings about your overall store services. So you ask random customers who visit the store to complete a short survey, recording variables such as their age group, and overall experience rating.\n",
        "\n",
        "**To Begin**\n",
        "\n",
        "Run the code below. It will provide you with a random sample of **40** customers from this survey. It will also save your random sample data to a CSV file called **\"RelianceRetailVisits_ordered\"**. Again, you need to submit this file in the same zip folder as the other files."
      ],
      "metadata": {
        "id": "dbbubvNGUHtp"
      },
      "id": "dbbubvNGUHtp"
    },
    {
      "cell_type": "code",
      "source": [
        "# Load the following libraries so that they can be applied in the subsequent code blocks\n",
        "\n",
        "import numpy as np\n",
        "import pandas as pd\n",
        "import matplotlib.pyplot as plt\n",
        "import random\n",
        "import scipy.stats as stats\n",
        "\n",
        "try:\n",
        "    df = pd.read_csv('RelianceRetailVisits.csv')\n",
        "except FileNotFoundError:\n",
        "    original_data = pd.read_csv(\"https://raw.githubusercontent.com/DanaSaleh1003/IDS-103-Spring-2024/main/RelianceRetailVisits-1.csv\")\n",
        "\n",
        "    # Randomly sample 40 rows from the original dataset\n",
        "    df = original_data.sample(n=40, random_state=42)\n",
        "\n",
        "# Fill missing values for '46 To 60 years' age group with default values or remove NaN rows\n",
        "df.fillna({'Age Group': '46 To 60 years'}, inplace=True)\n",
        "\n",
        "# Sort the DataFrame based on the 'Age Group' column in the desired order\n",
        "desired_order = ['26  To  35 years', '16  To  25 years', '36  To  45 years', '46  To  60 years']  # Corrected unique values\n",
        "df['Age Group'] = pd.Categorical(df['Age Group'], categories=desired_order, ordered=True)\n",
        "df.sort_values(by='Age Group', inplace=True)\n",
        "\n",
        "# Save the sorted DataFrame to a new CSV file\n",
        "df.to_csv('RelianceRetailVisits_ordered.csv', index=False)\n",
        "\n",
        "df.head()\n"
      ],
      "metadata": {
        "id": "nkAOSjevTIDd"
      },
      "id": "nkAOSjevTIDd",
      "execution_count": null,
      "outputs": []
    },
    {
      "cell_type": "markdown",
      "source": [
        "Use the random sample of data from the csv file you generated to answer the following questions:\n",
        "\n",
        "**Question 2a.** Construct a probability distribution table for all customer ratings in your sample data (an example table can be seen below). Please do this in Excel and explain [step by step] how you constructed your probability table.\n"
      ],
      "metadata": {
        "id": "dPZBs9LTXkch"
      },
      "id": "dPZBs9LTXkch"
    },
    {
      "cell_type": "markdown",
      "source": [
        "![Screenshot 2024-02-25 at 6.38.29 PM.png](data:image/png;base64,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)"
      ],
      "metadata": {
        "id": "qEoicx4DfVaM"
      },
      "id": "qEoicx4DfVaM"
    },
    {
      "cell_type": "markdown",
      "source": [
        "**Question 2b.**  What is the probability that a randomly selected customer will have a rating of AT MOST 3?\n",
        "\n",
        "**Question 2c.** Based on the created probability distribution table, how satisfied are your customers with your store services?\n",
        "\n",
        "**Question 2d.** Find the **expected rating** of your store. Show your work and interpret your answer in context.\n",
        "\n",
        "\n"
      ],
      "metadata": {
        "id": "4dr7NxQJoQ4y"
      },
      "id": "4dr7NxQJoQ4y"
    },
    {
      "cell_type": "markdown",
      "source": [
        "Run the code below. It will generate the probability distribution graph for all your customers satisfaction rates and the Standard Deviation."
      ],
      "metadata": {
        "id": "8aR8m22HZn-h"
      },
      "id": "8aR8m22HZn-h"
    },
    {
      "cell_type": "code",
      "source": [
        "import numpy as np\n",
        "import pandas as pd\n",
        "import matplotlib.pyplot as plt\n",
        "import scipy.stats as stats\n",
        "from tabulate import tabulate\n",
        "\n",
        "# Load data\n",
        "try:\n",
        "    df = pd.read_csv('RelianceRetailVisits.csv')\n",
        "except FileNotFoundError:\n",
        "    original_data = pd.read_csv(\"https://raw.githubusercontent.com/DanaSaleh1003/IDS-103-Spring-2024/main/RelianceRetailVisits-1.csv\")\n",
        "    df = original_data.sample(n=40, random_state=42)\n",
        "\n",
        "# Fill missing values for '46 To 60 years' age group with default values or remove NaN rows\n",
        "df.fillna({'Age Group': '46 To 60 years'}, inplace=True)\n",
        "\n",
        "# Sort the DataFrame based on the 'Age Group' column in the desired order\n",
        "desired_order = ['26  To  35 years', '16  To  25 years', '36  To  45 years', '46  To  60 years']\n",
        "df['Age Group'] = pd.Categorical(df['Age Group'], categories=desired_order, ordered=True)\n",
        "df.sort_values(by='Age Group', inplace=True)\n",
        "\n",
        "# Save the sorted DataFrame to a new CSV file\n",
        "df.to_csv('RelianceRetailVisits_ordered.csv', index=False)\n",
        "\n",
        "# Probability distribution graph for customer rating\n",
        "plt.figure(figsize=(8, 6))\n",
        "rating_counts = df['OverallExperienceRatin'].value_counts(normalize=True).sort_index()\n",
        "plt.bar(rating_counts.index, rating_counts, alpha=0.7)\n",
        "plt.title('Probability Distribution of Customer Rating')\n",
        "plt.xlabel('Overall Experience Rating')\n",
        "plt.ylabel('Probability')\n",
        "plt.xticks(range(1, 6))\n",
        "plt.grid(axis='y', linestyle='--', alpha=0.7)\n",
        "plt.show()\n",
        "\n",
        "# Expected value and STD for rating for all customers\n",
        "mean_rating = df['OverallExperienceRatin'].mean()\n",
        "std_rating = df['OverallExperienceRatin'].std()\n",
        "print(f\"Standard Deviation (STD) of Customer Rating: {std_rating:.2f}\")\n",
        "print()\n",
        "\n",
        "\n"
      ],
      "metadata": {
        "id": "a7Rk7EcWWZr9"
      },
      "id": "a7Rk7EcWWZr9",
      "execution_count": null,
      "outputs": []
    },
    {
      "cell_type": "markdown",
      "source": [
        "**Question 2e.** Interpret the **Standard Deviation** in context. What rating is considered **unusual**? Explain.\n",
        "\n"
      ],
      "metadata": {
        "id": "P5b1t2N8Z1ds"
      },
      "id": "P5b1t2N8Z1ds"
    },
    {
      "cell_type": "markdown",
      "source": [
        "**Run** the code below. It will generate the probability distribution graphs for **each** of the age groups along with their discrete probability distribution tables, the Expectd values, and the Standard Deviation values."
      ],
      "metadata": {
        "id": "RCniOavqBv_L"
      },
      "id": "RCniOavqBv_L"
    },
    {
      "cell_type": "code",
      "source": [
        "import numpy as np\n",
        "import pandas as pd\n",
        "import matplotlib.pyplot as plt\n",
        "import scipy.stats as stats\n",
        "\n",
        "# Assuming your data is stored in a CSV file named 'data.csv'\n",
        "data = pd.read_csv('RelianceRetailVisits_ordered.csv')\n",
        "\n",
        "# Define age groups including the new one\n",
        "age_groups = ['16  To  25 years', '26  To  35 years', '36  To  45 years', '46  To  60 years']  # Added new age group\n",
        "\n",
        "# Plot separate discrete probability distributions for each age group\n",
        "fig, axs = plt.subplots(1, 4, figsize=(20, 6), sharex=True, gridspec_kw={'hspace': 0.5})  # Adjusted size and spacing\n",
        "\n",
        "for i, age_group in enumerate(age_groups):\n",
        "    age_data = data[data['Age Group'] == age_group]\n",
        "    rating_counts = age_data['OverallExperienceRatin'].value_counts(normalize=True).sort_index()\n",
        "    bars = axs[i].bar(rating_counts.index, rating_counts, alpha=0.7)\n",
        "    axs[i].set_title(f'{age_group}\\nMean: {age_data[\"OverallExperienceRatin\"].mean():.2f} | SD: {age_data[\"OverallExperienceRatin\"].std():.2f}')  # Age group, Mean, and SD\n",
        "    axs[i].set_xlabel('Overall Experience Rating')\n",
        "    axs[i].set_ylabel('Probability (%)')  # Set y-axis label to Probability (%)\n",
        "    axs[i].set_xticks(range(1, 6))  # Set x-axis ticks from 1 to 5\n",
        "    axs[i].set_yticklabels(['{:,.0%}'.format(x) for x in axs[i].get_yticks()])  # Format y-axis tick labels as percentages\n",
        "\n",
        "    # Display percentages above each bar\n",
        "    for bar in bars:\n",
        "        height = bar.get_height()\n",
        "        rating = bar.get_x() + bar.get_width() / 2\n",
        "        if height == 0:  # If the height is 0%, display '0%'\n",
        "            axs[i].text(rating, height, '0%', ha='center', va='bottom', fontsize=8)\n",
        "        else:\n",
        "            axs[i].text(rating, height, f'{height:.0%}', ha='center', va='bottom', fontsize=8)\n",
        "\n",
        "    axs[i].grid(axis='y', linestyle='--', alpha=0.7)\n",
        "\n",
        "# Hide the warning about FixedFormatter\n",
        "import warnings\n",
        "warnings.filterwarnings(\"ignore\", category=UserWarning)\n",
        "\n",
        "plt.tight_layout()\n",
        "plt.show()\n"
      ],
      "metadata": {
        "id": "nIfR0MykDohU"
      },
      "id": "nIfR0MykDohU",
      "execution_count": null,
      "outputs": []
    },
    {
      "cell_type": "markdown",
      "source": [
        "**Question 2f.** Identify any trends or differences in customer satisfaction levels (and variability) among the different age groups.\n",
        "\n",
        "Now, using these insights, what concrete improvements would you make to your store to ensure that **all** customers are satisfied with your services?"
      ],
      "metadata": {
        "id": "FxEN14vf7Rw9"
      },
      "id": "FxEN14vf7Rw9"
    },
    {
      "cell_type": "markdown",
      "source": [
        "**Answer:** Add more \"markdown\" text cells below as needed."
      ],
      "metadata": {
        "id": "aFpzKkhING_3"
      },
      "id": "aFpzKkhING_3"
    },
    {
      "cell_type": "code",
      "source": [],
      "metadata": {
        "id": "gs4SiA28et-9"
      },
      "id": "gs4SiA28et-9",
      "execution_count": null,
      "outputs": []
    },
    {
      "cell_type": "code",
      "source": [],
      "metadata": {
        "id": "_OFcTPIfscWG"
      },
      "id": "_OFcTPIfscWG",
      "execution_count": null,
      "outputs": []
    },
    {
      "cell_type": "markdown",
      "source": [
        "# C. Statistical Intuition in SAT Exams\n"
      ],
      "metadata": {
        "id": "bxWs676vPuB5"
      },
      "id": "bxWs676vPuB5"
    },
    {
      "cell_type": "markdown",
      "id": "1eba7ec0",
      "metadata": {
        "id": "1eba7ec0"
      },
      "source": [
        "\n",
        "# **Question 3:**\n",
        "\n",
        "Imagine you are working for a prestigious university in the UAE. It is your job to decide which students are admitted to the university. To help you do this, you analyze the high school (SAT) scores of potential students. These scores help you understand their academic readiness and potential for success at the university.\n",
        "\n",
        "You have just received the scores of applicants who would like to join the university in September 2024. These scores follow a **normal distribution**."
      ]
    },
    {
      "cell_type": "markdown",
      "source": [
        "**To Begin**.  \n",
        "\n",
        "Run the code below. It will generate a dataset with the students scores. It will also calculate the **mean (μ)** and **standard deviation (σ)** of these scores. This dataset will be saved as a CSV file called **\"Scores.csv\"**. Again, you need to submit this file in the same zip folder as your other files."
      ],
      "metadata": {
        "id": "FRRhnhzbp1tW"
      },
      "id": "FRRhnhzbp1tW"
    },
    {
      "cell_type": "code",
      "source": [
        "# Load the following libraries so that they can be applied in the subsequent code blocks\n",
        "\n",
        "\n",
        "import pandas as pd\n",
        "import numpy as np\n",
        "import random\n",
        "\n",
        "try:\n",
        "    SATScores = pd.read_csv('Scores.csv')\n",
        "except FileNotFoundError:\n",
        "    num_samples = 1000\n",
        "    mean_score = random.randint(800, 1200)\n",
        "    std_deviation = random.randint(100, 300)\n",
        "    scores = np.random.normal(mean_score, std_deviation, num_samples)\n",
        "    scores = np.round(scores, 0)\n",
        "    SATScores = pd.DataFrame({'Scores': scores})\n",
        "    SATScores.to_csv('Scores.csv')\n",
        "\n",
        "# Calculate mean and standard deviation\n",
        "mean_score = SATScores['Scores'].mean()\n",
        "std_deviation = SATScores['Scores'].std()\n",
        "\n",
        "# Print mean score and standard deviation\n",
        "print(\"Mean score:\", mean_score)\n",
        "print(\"Standard deviation:\", std_deviation)\n",
        "\n",
        "# Display the dataset\n",
        "SATScores.head()\n"
      ],
      "metadata": {
        "id": "jQI-U8Gw8d8g"
      },
      "id": "jQI-U8Gw8d8g",
      "execution_count": null,
      "outputs": []
    },
    {
      "cell_type": "markdown",
      "source": [
        "Now, use the Scores dataset and the statistics provided by the code, to answer the following questions.\n",
        "\n",
        "**IMPORTANT:**\n",
        "*   *Make sure to support your answers by explaining and showing how you came to your conclusions.*\n",
        "*   *If you use online calculators then please include screenshots of those calculators as part of your work.*\n",
        "*   *Please **do not** use code to solve these questions. The questions are designed to test your understanding.*\n",
        "\n",
        "**Question 3a**. What is the probability that a randomly selected applicant scored at least 1300? Show your work.\n",
        "\n",
        "**Question 3b**. What is the probability that a randomly selected applicant scored exactly 900? Show your work.\n",
        "\n",
        "**Question 3c**. What percentage of applicants scored between 900 and 1000? Show your work.\n",
        "\n",
        "**Question 3d**. Calculate the 40th percentile of scores among the applicants. What does this value represent in the context of the admissions process? Show your work.\n",
        "\n",
        "**Question 3e**. Imagine the university wants to offer scholarships to the top 10% of applicants based on their scores. What minimum score would an applicant need to qualify for a scholarship? Show your work.\n",
        "\n",
        "**Question 3f**. Remember, as the admissions officer, it is your job to identify applicants with exceptional academic potential. Would you automatically recommend that applicants with SAT scores above 1400 to be admitted into the university? Or do you think additional criteria should also be considered? Explain your reasoning.\n"
      ],
      "metadata": {
        "id": "-NeNJdYkgBID"
      },
      "id": "-NeNJdYkgBID"
    },
    {
      "cell_type": "markdown",
      "id": "1d9777b3",
      "metadata": {
        "id": "1d9777b3"
      },
      "source": [
        "**Answer:** Add more \"markdown\" text and code cells below as needed."
      ]
    },
    {
      "cell_type": "code",
      "execution_count": null,
      "id": "7832e424",
      "metadata": {
        "id": "7832e424"
      },
      "outputs": [],
      "source": []
    },
    {
      "cell_type": "code",
      "source": [],
      "metadata": {
        "id": "pIMPP8Re8dWz"
      },
      "id": "pIMPP8Re8dWz",
      "execution_count": null,
      "outputs": []
    },
    {
      "cell_type": "markdown",
      "source": [
        "## D. Statistical Intuition in Public Health"
      ],
      "metadata": {
        "id": "BGuCvY42pedt"
      },
      "id": "BGuCvY42pedt"
    },
    {
      "cell_type": "markdown",
      "id": "ec4d1c16",
      "metadata": {
        "id": "ec4d1c16"
      },
      "source": [
        "# **Question 4:**\n",
        "\n",
        "Now imagine that it is year 2034 and you are working as a public health researcher in the UAE. You are working on a project to assess vaccination coverage for a new global pandemic. The UAE government has implemented a widespread vaccination campaign to combat the spread of the virus and achieve herd immunity. You want to determine the proportion of individuals who have received the new vaccine among a sample of 100 residents in different parts of the country."
      ]
    },
    {
      "cell_type": "markdown",
      "source": [
        "**To Begin**.  \n",
        "\n",
        "Run the code below. It will provide you with a random sample of 100 residents. It will save this data to a CSV file called **\"Vaccinated.csv\"**. Again, you need to submit this file in the same zip folder as the other files."
      ],
      "metadata": {
        "id": "JZblbGomp62I"
      },
      "id": "JZblbGomp62I"
    },
    {
      "cell_type": "code",
      "source": [
        "# Load the following libraries so that they can be applied in the subsequent code blocks\n",
        "\n",
        "import numpy as np\n",
        "import pandas as pd\n",
        "import matplotlib.pyplot as plt\n",
        "import random\n",
        "import scipy.stats as stats\n",
        "\n",
        "# Run this code. It will generate data and save it to a CSV file called \"Vaccinated.csv\". You need to submit it in the same zip folder as your other files.\n",
        "\n",
        "try:\n",
        "    Vaccinated = pd.read_csv('Vaccinated.csv')\n",
        "except FileNotFoundError:\n",
        "    num_samples = 100\n",
        "    vaccinated = np.random.choice([\"Yes\", \"No\"], size=num_samples)\n",
        "    Vaccinated = pd.DataFrame({'Vaccinated': vaccinated})\n",
        "    Vaccinated.to_csv('Vaccinated.csv')\n",
        "\n",
        "# Have a look at Vaccinated dataset.\n",
        "Vaccinated.head()"
      ],
      "metadata": {
        "id": "jNYbD-sBGy_A"
      },
      "id": "jNYbD-sBGy_A",
      "execution_count": null,
      "outputs": []
    },
    {
      "cell_type": "markdown",
      "id": "6b9e6478",
      "metadata": {
        "id": "6b9e6478"
      },
      "source": [
        "**Now**, use the dataset to answer the following questions.\n",
        "\n",
        "IMPORTANT:\n",
        "*   Make sure to support your answers by explaining and showing how you came to your conclusions.\n",
        "*   Please do not use code to solve these questions. The questions are designed to test your understanding.\n",
        "\n",
        "**Question 4a**. What is the proportion of people who have received the vaccine (based on the dataset you have)?\n",
        "\n",
        "**Question 4b**. Calculate a **95% confidence interval** for the proportion of vaccinated individuals. What does this interval tell us about the likely range of vaccination coverage in the entire population? Show your work.\n",
        "\n",
        "**Question 4c**. What sample size would be required to estimate the proportion of vaccinated individuals in the country with a **95% confidence level** and a **margin of error of 0.02**? Show your work.\n",
        "\n",
        "**Question 4d**. If you wanted to increase the precision of your estimate, what strategies could you employ to achieve this goal? Explain your reasoning.\n",
        "\n",
        "\n",
        "**Question 4e**. Analyze the effectiveness of the current vaccination campaign using the proportion of vaccinated individuals and the confidence interval. What recommendations would you make for future campaigns?"
      ]
    },
    {
      "cell_type": "markdown",
      "id": "f8955587",
      "metadata": {
        "id": "f8955587"
      },
      "source": [
        "**Answer:** Add more \"markdown\" text and code cells below as needed."
      ]
    },
    {
      "cell_type": "code",
      "source": [],
      "metadata": {
        "id": "Xy9xYOWSs-sX"
      },
      "id": "Xy9xYOWSs-sX",
      "execution_count": null,
      "outputs": []
    },
    {
      "cell_type": "code",
      "source": [],
      "metadata": {
        "id": "T4htkSMWsekN"
      },
      "id": "T4htkSMWsekN",
      "execution_count": null,
      "outputs": []
    }
  ],
  "metadata": {
    "kernelspec": {
      "display_name": "Python 3 (ipykernel)",
      "language": "python",
      "name": "python3"
    },
    "language_info": {
      "codemirror_mode": {
        "name": "ipython",
        "version": 3
      },
      "file_extension": ".py",
      "mimetype": "text/x-python",
      "name": "python",
      "nbconvert_exporter": "python",
      "pygments_lexer": "ipython3",
      "version": "3.9.12"
    },
    "colab": {
      "provenance": []
    }
  },
  "nbformat": 4,
  "nbformat_minor": 5
}